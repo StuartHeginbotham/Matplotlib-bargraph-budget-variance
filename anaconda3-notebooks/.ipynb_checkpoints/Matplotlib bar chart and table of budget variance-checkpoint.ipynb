{
 "cells": [
  {
   "cell_type": "code",
   "execution_count": 1,
   "metadata": {
    "collapsed": true
   },
   "outputs": [],
   "source": [
    "import pandas as pd \n",
    "import matplotlib\n",
    "import matplotlib.backends.backend_pdf\n",
    "from matplotlib import pyplot as plt"
   ]
  },
  {
   "cell_type": "code",
   "execution_count": 2,
   "metadata": {
    "collapsed": true
   },
   "outputs": [],
   "source": [
    "# to switch on inline dsiplay of graph in anaconda\n",
    "%matplotlib inline"
   ]
  },
  {
   "cell_type": "code",
   "execution_count": 3,
   "metadata": {
    "collapsed": true
   },
   "outputs": [],
   "source": [
    "#data layed out for convenience of changing numbers to show different scenarios\n",
    "data=  ['201901 180 212'.split(),\n",
    "        '201902 180 245'.split(),\n",
    "        '201903 180 202'.split(),\n",
    "        '201904 150 132'.split(),\n",
    "        '201905 150 124'.split(),\n",
    "        '201906 130 133'.split(),\n",
    "        '201907 130 145'.split(),\n",
    "        '201908 150 137'.split(),\n",
    "        '201909 150 177'.split(),\n",
    "        '201910 180 143'.split(),\n",
    "        '201911 180 201'.split(),\n",
    "        '201912 180 232'.split()]"
   ]
  },
  {
   "cell_type": "code",
   "execution_count": 4,
   "metadata": {
    "collapsed": true
   },
   "outputs": [],
   "source": [
    "#creation of dataframe, naming of columns, setting appropriate data types and calculating variance\n",
    "df=pd.DataFrame(data,columns=['Month','Budget','Actual'])\n",
    "df['Budget']=pd.to_numeric(df['Budget'])\n",
    "df['Actual']=pd.to_numeric(df['Actual'])\n",
    "df['Variance']=df['Budget']-df['Actual']"
   ]
  },
  {
   "cell_type": "code",
   "execution_count": 5,
   "metadata": {
    "collapsed": true
   },
   "outputs": [],
   "source": [
    "#putting row items into cells for printing\n",
    "cell_text=[]\n",
    "for row in df:\n",
    "    cell_text.append(df[row])"
   ]
  },
  {
   "cell_type": "code",
   "execution_count": 6,
   "metadata": {
    "collapsed": true
   },
   "outputs": [],
   "source": [
    "#Defining PDF output file and title\n",
    "PDFFILE='myplot.pdf'\n",
    "PAGETITLE='EXAMPLE - Monthly Variance Budget against Actual'\n",
    "thePdf = matplotlib.backends.backend_pdf.PdfPages(PDFFILE)"
   ]
  },
  {
   "cell_type": "code",
   "execution_count": 7,
   "metadata": {},
   "outputs": [
    {
     "data": {
      "image/png": "[encoded data removed]",
      "text/plain": [
       "<matplotlib.figure.Figure at 0x7f0eb8e4b828>"
      ]
     },
     "metadata": {},
     "output_type": "display_data"
    }
   ],
   "source": [
    "# set figure size to absolute page size a4 landscape in inches\n",
    "fig, ax = plt.subplots(figsize=(11.69,8.27))\n",
    "\n",
    "# add title set previously\n",
    "fig.text(0.2, 0.9, PAGETITLE, fontsize=14, fontweight='bold')\n",
    "\n",
    "#plot bar chart of variance onto axes\n",
    "b=ax.bar(df['Month'],\n",
    "         df['Variance'],\n",
    "        #defining the bar width helped align columns with cells without explicitly aligning them         \n",
    "         width=0.7,\n",
    "         align='center',\n",
    "         label=\"Variance\")\n",
    "\n",
    "#remove the tick lables on \"x\" axis\n",
    "ax.set_xticklabels([])\n",
    "\n",
    "#remove the actual ticks on the \"x\" axis\n",
    "ax.xaxis.set_major_locator(matplotlib.ticker.NullLocator())\n",
    "\n",
    "#plot table using previously created cell text and adding row labels as per column in dataframe\n",
    "t=ax.table(cellText=cell_text,\n",
    "            rowLabels=df.columns)\n",
    "\n",
    "#save figure to file defining orientation and papersize\n",
    "thePdf.savefig(fig,orientation='landscape',papersize='a4' )\n",
    "\n",
    "#close file\n",
    "thePdf.close()\n"
   ]
  },
  {
   "cell_type": "code",
   "execution_count": null,
   "metadata": {
    "collapsed": true
   },
   "outputs": [],
   "source": []
  }
 ],
 "metadata": {
  "kernelspec": {
   "display_name": "Python 3",
   "language": "python",
   "name": "python3"
  },
  "language_info": {
   "codemirror_mode": {
    "name": "ipython",
    "version": 3
   },
   "file_extension": ".py",
   "mimetype": "text/x-python",
   "name": "python",
   "nbconvert_exporter": "python",
   "pygments_lexer": "ipython3",
   "version": "3.6.3"
  }
 },
 "nbformat": 4,
 "nbformat_minor": 2
}
